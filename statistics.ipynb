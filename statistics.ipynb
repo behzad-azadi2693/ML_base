{
 "cells": [
  {
   "cell_type": "markdown",
   "id": "c98c3b8d",
   "metadata": {},
   "source": [
    "# statistics"
   ]
  },
  {
   "cell_type": "code",
   "execution_count": 12,
   "id": "c71542e2",
   "metadata": {},
   "outputs": [],
   "source": [
    "import numpy as np\n",
    "import statistics\n",
    "from scipy import stats"
   ]
  },
  {
   "cell_type": "code",
   "execution_count": 13,
   "id": "c7023f54",
   "metadata": {},
   "outputs": [
    {
     "data": {
      "text/plain": [
       "[7, 7, 4, 2, 3, 6, 2, 9, 7, 5, 9, 4, 9, 6, 7]"
      ]
     },
     "execution_count": 13,
     "metadata": {},
     "output_type": "execute_result"
    }
   ],
   "source": [
    "number = list(np.random.randint(1,10,15))\n",
    "number"
   ]
  },
  {
   "cell_type": "code",
   "execution_count": 14,
   "id": "9c6a97da",
   "metadata": {},
   "outputs": [
    {
     "data": {
      "text/plain": [
       "7"
      ]
     },
     "execution_count": 14,
     "metadata": {},
     "output_type": "execute_result"
    }
   ],
   "source": [
    "statistics.mode(number)"
   ]
  },
  {
   "cell_type": "code",
   "execution_count": 42,
   "id": "13daede2",
   "metadata": {},
   "outputs": [
    {
     "name": "stderr",
     "output_type": "stream",
     "text": [
      "/tmp/ipykernel_13549/2480267523.py:1: FutureWarning: Unlike other reduction functions (e.g. `skew`, `kurtosis`), the default behavior of `mode` typically preserves the axis it acts along. In SciPy 1.11.0, this behavior will change: the default value of `keepdims` will become False, the `axis` over which the statistic is taken will be eliminated, and the value None will no longer be accepted. Set `keepdims` to True or False to avoid this warning.\n",
      "  stats.mode(number)\n"
     ]
    },
    {
     "data": {
      "text/plain": [
       "ModeResult(mode=array([7]), count=array([4]))"
      ]
     },
     "execution_count": 42,
     "metadata": {},
     "output_type": "execute_result"
    }
   ],
   "source": [
    "stats.mode(number)"
   ]
  },
  {
   "cell_type": "code",
   "execution_count": 18,
   "id": "e4196728",
   "metadata": {},
   "outputs": [
    {
     "data": {
      "text/plain": [
       "5"
      ]
     },
     "execution_count": 18,
     "metadata": {},
     "output_type": "execute_result"
    }
   ],
   "source": [
    "statistics.mean(number)"
   ]
  },
  {
   "cell_type": "code",
   "execution_count": 20,
   "id": "fab94ee8",
   "metadata": {},
   "outputs": [
    {
     "data": {
      "text/plain": [
       "6"
      ]
     },
     "execution_count": 20,
     "metadata": {},
     "output_type": "execute_result"
    }
   ],
   "source": [
    "statistics.median(number)"
   ]
  },
  {
   "cell_type": "code",
   "execution_count": 21,
   "id": "8e5a3047",
   "metadata": {},
   "outputs": [
    {
     "data": {
      "text/plain": [
       "5.8"
      ]
     },
     "execution_count": 21,
     "metadata": {},
     "output_type": "execute_result"
    }
   ],
   "source": [
    "np.mean(number)"
   ]
  },
  {
   "cell_type": "code",
   "execution_count": 22,
   "id": "500a1641",
   "metadata": {},
   "outputs": [
    {
     "data": {
      "text/plain": [
       "6.0"
      ]
     },
     "execution_count": 22,
     "metadata": {},
     "output_type": "execute_result"
    }
   ],
   "source": [
    "np.median(number)"
   ]
  },
  {
   "cell_type": "markdown",
   "id": "069eaf4e",
   "metadata": {},
   "source": [
    "### variance"
   ]
  },
  {
   "cell_type": "code",
   "execution_count": 23,
   "id": "059f0de4",
   "metadata": {},
   "outputs": [
    {
     "data": {
      "text/plain": [
       "5"
      ]
     },
     "execution_count": 23,
     "metadata": {},
     "output_type": "execute_result"
    }
   ],
   "source": [
    "statistics.variance(number)"
   ]
  },
  {
   "cell_type": "markdown",
   "id": "b97908a9",
   "metadata": {},
   "source": [
    "### standard division\n",
    "\n"
   ]
  },
  {
   "cell_type": "code",
   "execution_count": 25,
   "id": "09df3747",
   "metadata": {},
   "outputs": [
    {
     "data": {
      "text/plain": [
       "2.23606797749979"
      ]
     },
     "execution_count": 25,
     "metadata": {},
     "output_type": "execute_result"
    }
   ],
   "source": [
    "statistics.stdev(number)"
   ]
  },
  {
   "cell_type": "markdown",
   "id": "96711a7f",
   "metadata": {},
   "source": [
    "### quantile"
   ]
  },
  {
   "cell_type": "code",
   "execution_count": 26,
   "id": "7ac41ede",
   "metadata": {},
   "outputs": [
    {
     "data": {
      "text/plain": [
       "4.0"
      ]
     },
     "execution_count": 26,
     "metadata": {},
     "output_type": "execute_result"
    }
   ],
   "source": [
    "np.quantile(number, 0.25)"
   ]
  },
  {
   "cell_type": "code",
   "execution_count": 27,
   "id": "7a48f89d",
   "metadata": {},
   "outputs": [
    {
     "data": {
      "text/plain": [
       "6.0"
      ]
     },
     "execution_count": 27,
     "metadata": {},
     "output_type": "execute_result"
    }
   ],
   "source": [
    "np.quantile(number, 0.50)"
   ]
  },
  {
   "cell_type": "code",
   "execution_count": 30,
   "id": "3d46db3e",
   "metadata": {},
   "outputs": [
    {
     "data": {
      "text/plain": [
       "7.0"
      ]
     },
     "execution_count": 30,
     "metadata": {},
     "output_type": "execute_result"
    }
   ],
   "source": [
    "np.quantile(number, 0.75)"
   ]
  },
  {
   "cell_type": "code",
   "execution_count": 36,
   "id": "c2bd65a9",
   "metadata": {},
   "outputs": [],
   "source": [
    "q1 = np.quantile(number, 0.25, method='lower')\n",
    "q2 = np.quantile(number, 0.25, method='higher')\n",
    "q3 = np.quantile(number, 0.25, method='midpoint')"
   ]
  },
  {
   "cell_type": "code",
   "execution_count": null,
   "id": "5c732199",
   "metadata": {},
   "outputs": [],
   "source": []
  }
 ],
 "metadata": {
  "kernelspec": {
   "display_name": "Python 3 (ipykernel)",
   "language": "python",
   "name": "python3"
  },
  "language_info": {
   "codemirror_mode": {
    "name": "ipython",
    "version": 3
   },
   "file_extension": ".py",
   "mimetype": "text/x-python",
   "name": "python",
   "nbconvert_exporter": "python",
   "pygments_lexer": "ipython3",
   "version": "3.10.7"
  }
 },
 "nbformat": 4,
 "nbformat_minor": 5
}
