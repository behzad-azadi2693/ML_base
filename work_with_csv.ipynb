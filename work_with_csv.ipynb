{
 "cells": [
  {
   "cell_type": "markdown",
   "id": "15f6e625",
   "metadata": {},
   "source": [
    "### IMPORT LIBERARY"
   ]
  },
  {
   "cell_type": "code",
   "execution_count": 47,
   "id": "39338081",
   "metadata": {},
   "outputs": [],
   "source": [
    "import pandas as pd\n",
    "import numpy as np\n",
    "import seaborn as sns \n",
    "from statsmodels.stats.outliers_influence import variance_inflation_factor\n",
    "import matplotlib.pyplot as plt*"
   ]
  },
  {
   "cell_type": "markdown",
   "id": "7c277bac",
   "metadata": {},
   "source": [
    "### READING CSV FILE"
   ]
  },
  {
   "cell_type": "code",
   "execution_count": 48,
   "id": "92a21531",
   "metadata": {},
   "outputs": [],
   "source": [
    "df = pd.read_csv('car.csv')"
   ]
  },
  {
   "cell_type": "markdown",
   "id": "f560b694",
   "metadata": {},
   "source": [
    "### GET DATA NOT ZERO IN PRICE COLUMN"
   ]
  },
  {
   "cell_type": "code",
   "execution_count": 49,
   "id": "8bd41c73",
   "metadata": {},
   "outputs": [
    {
     "data": {
      "text/html": [
       "<div>\n",
       "<style scoped>\n",
       "    .dataframe tbody tr th:only-of-type {\n",
       "        vertical-align: middle;\n",
       "    }\n",
       "\n",
       "    .dataframe tbody tr th {\n",
       "        vertical-align: top;\n",
       "    }\n",
       "\n",
       "    .dataframe thead th {\n",
       "        text-align: right;\n",
       "    }\n",
       "</style>\n",
       "<table border=\"1\" class=\"dataframe\">\n",
       "  <thead>\n",
       "    <tr style=\"text-align: right;\">\n",
       "      <th></th>\n",
       "      <th>Brand</th>\n",
       "      <th>Price</th>\n",
       "      <th>Body</th>\n",
       "      <th>Mileage</th>\n",
       "      <th>EngineV</th>\n",
       "      <th>Engine Type</th>\n",
       "      <th>Registration</th>\n",
       "      <th>Year</th>\n",
       "      <th>Model</th>\n",
       "    </tr>\n",
       "  </thead>\n",
       "  <tbody>\n",
       "    <tr>\n",
       "      <th>0</th>\n",
       "      <td>BMW</td>\n",
       "      <td>4200.0</td>\n",
       "      <td>sedan</td>\n",
       "      <td>277</td>\n",
       "      <td>2.0</td>\n",
       "      <td>Petrol</td>\n",
       "      <td>yes</td>\n",
       "      <td>1991</td>\n",
       "      <td>320</td>\n",
       "    </tr>\n",
       "    <tr>\n",
       "      <th>1</th>\n",
       "      <td>Mercedes-Benz</td>\n",
       "      <td>7900.0</td>\n",
       "      <td>van</td>\n",
       "      <td>427</td>\n",
       "      <td>2.9</td>\n",
       "      <td>Diesel</td>\n",
       "      <td>yes</td>\n",
       "      <td>1999</td>\n",
       "      <td>Sprinter 212</td>\n",
       "    </tr>\n",
       "    <tr>\n",
       "      <th>2</th>\n",
       "      <td>Mercedes-Benz</td>\n",
       "      <td>13300.0</td>\n",
       "      <td>sedan</td>\n",
       "      <td>358</td>\n",
       "      <td>5.0</td>\n",
       "      <td>Gas</td>\n",
       "      <td>yes</td>\n",
       "      <td>2003</td>\n",
       "      <td>S 500</td>\n",
       "    </tr>\n",
       "    <tr>\n",
       "      <th>3</th>\n",
       "      <td>Audi</td>\n",
       "      <td>23000.0</td>\n",
       "      <td>crossover</td>\n",
       "      <td>240</td>\n",
       "      <td>4.2</td>\n",
       "      <td>Petrol</td>\n",
       "      <td>yes</td>\n",
       "      <td>2007</td>\n",
       "      <td>Q7</td>\n",
       "    </tr>\n",
       "    <tr>\n",
       "      <th>4</th>\n",
       "      <td>Toyota</td>\n",
       "      <td>18300.0</td>\n",
       "      <td>crossover</td>\n",
       "      <td>120</td>\n",
       "      <td>2.0</td>\n",
       "      <td>Petrol</td>\n",
       "      <td>yes</td>\n",
       "      <td>2011</td>\n",
       "      <td>Rav 4</td>\n",
       "    </tr>\n",
       "    <tr>\n",
       "      <th>...</th>\n",
       "      <td>...</td>\n",
       "      <td>...</td>\n",
       "      <td>...</td>\n",
       "      <td>...</td>\n",
       "      <td>...</td>\n",
       "      <td>...</td>\n",
       "      <td>...</td>\n",
       "      <td>...</td>\n",
       "      <td>...</td>\n",
       "    </tr>\n",
       "    <tr>\n",
       "      <th>4340</th>\n",
       "      <td>Mercedes-Benz</td>\n",
       "      <td>125000.0</td>\n",
       "      <td>sedan</td>\n",
       "      <td>9</td>\n",
       "      <td>3.0</td>\n",
       "      <td>Diesel</td>\n",
       "      <td>yes</td>\n",
       "      <td>2014</td>\n",
       "      <td>S 350</td>\n",
       "    </tr>\n",
       "    <tr>\n",
       "      <th>4341</th>\n",
       "      <td>BMW</td>\n",
       "      <td>6500.0</td>\n",
       "      <td>sedan</td>\n",
       "      <td>1</td>\n",
       "      <td>3.5</td>\n",
       "      <td>Petrol</td>\n",
       "      <td>yes</td>\n",
       "      <td>1999</td>\n",
       "      <td>535</td>\n",
       "    </tr>\n",
       "    <tr>\n",
       "      <th>4342</th>\n",
       "      <td>BMW</td>\n",
       "      <td>8000.0</td>\n",
       "      <td>sedan</td>\n",
       "      <td>194</td>\n",
       "      <td>2.0</td>\n",
       "      <td>Petrol</td>\n",
       "      <td>yes</td>\n",
       "      <td>1985</td>\n",
       "      <td>520</td>\n",
       "    </tr>\n",
       "    <tr>\n",
       "      <th>4343</th>\n",
       "      <td>Toyota</td>\n",
       "      <td>14200.0</td>\n",
       "      <td>sedan</td>\n",
       "      <td>31</td>\n",
       "      <td>NaN</td>\n",
       "      <td>Petrol</td>\n",
       "      <td>yes</td>\n",
       "      <td>2014</td>\n",
       "      <td>Corolla</td>\n",
       "    </tr>\n",
       "    <tr>\n",
       "      <th>4344</th>\n",
       "      <td>Volkswagen</td>\n",
       "      <td>13500.0</td>\n",
       "      <td>van</td>\n",
       "      <td>124</td>\n",
       "      <td>2.0</td>\n",
       "      <td>Diesel</td>\n",
       "      <td>yes</td>\n",
       "      <td>2013</td>\n",
       "      <td>T5 (Transporter)</td>\n",
       "    </tr>\n",
       "  </tbody>\n",
       "</table>\n",
       "<p>4173 rows × 9 columns</p>\n",
       "</div>"
      ],
      "text/plain": [
       "              Brand     Price       Body  Mileage  EngineV Engine Type  \\\n",
       "0               BMW    4200.0      sedan      277      2.0      Petrol   \n",
       "1     Mercedes-Benz    7900.0        van      427      2.9      Diesel   \n",
       "2     Mercedes-Benz   13300.0      sedan      358      5.0         Gas   \n",
       "3              Audi   23000.0  crossover      240      4.2      Petrol   \n",
       "4            Toyota   18300.0  crossover      120      2.0      Petrol   \n",
       "...             ...       ...        ...      ...      ...         ...   \n",
       "4340  Mercedes-Benz  125000.0      sedan        9      3.0      Diesel   \n",
       "4341            BMW    6500.0      sedan        1      3.5      Petrol   \n",
       "4342            BMW    8000.0      sedan      194      2.0      Petrol   \n",
       "4343         Toyota   14200.0      sedan       31      NaN      Petrol   \n",
       "4344     Volkswagen   13500.0        van      124      2.0      Diesel   \n",
       "\n",
       "     Registration  Year              Model  \n",
       "0             yes  1991                320  \n",
       "1             yes  1999       Sprinter 212  \n",
       "2             yes  2003              S 500  \n",
       "3             yes  2007                 Q7  \n",
       "4             yes  2011              Rav 4  \n",
       "...           ...   ...                ...  \n",
       "4340          yes  2014              S 350  \n",
       "4341          yes  1999                535  \n",
       "4342          yes  1985                520  \n",
       "4343          yes  2014            Corolla  \n",
       "4344          yes  2013  T5 (Transporter)   \n",
       "\n",
       "[4173 rows x 9 columns]"
      ]
     },
     "execution_count": 49,
     "metadata": {},
     "output_type": "execute_result"
    }
   ],
   "source": [
    "data_clean = df[df['Price']>1]\n",
    "data_clean"
   ]
  },
  {
   "cell_type": "code",
   "execution_count": 50,
   "id": "6c8dd19e",
   "metadata": {},
   "outputs": [
    {
     "data": {
      "text/plain": [
       "0        8.342840\n",
       "1        8.974618\n",
       "2        9.495519\n",
       "3       10.043249\n",
       "4        9.814656\n",
       "          ...    \n",
       "4340    11.736069\n",
       "4341     8.779557\n",
       "4342     8.987197\n",
       "4343     9.560997\n",
       "4344     9.510445\n",
       "Name: Price, Length: 4173, dtype: float64"
      ]
     },
     "execution_count": 50,
     "metadata": {},
     "output_type": "execute_result"
    }
   ],
   "source": [
    "log_price = np.log(data_clean['Price'])\n",
    "log_price"
   ]
  },
  {
   "cell_type": "markdown",
   "id": "f5fc398f",
   "metadata": {},
   "source": [
    "### ADD NEW COLUMN TO DATA WITH NAME log_price"
   ]
  },
  {
   "cell_type": "code",
   "execution_count": 51,
   "id": "81e84fc2",
   "metadata": {},
   "outputs": [
    {
     "name": "stderr",
     "output_type": "stream",
     "text": [
      "/tmp/ipykernel_3289/1789912497.py:1: SettingWithCopyWarning: \n",
      "A value is trying to be set on a copy of a slice from a DataFrame.\n",
      "Try using .loc[row_indexer,col_indexer] = value instead\n",
      "\n",
      "See the caveats in the documentation: https://pandas.pydata.org/pandas-docs/stable/user_guide/indexing.html#returning-a-view-versus-a-copy\n",
      "  data_clean['log_price'] = log_price\n"
     ]
    }
   ],
   "source": [
    "data_clean['log_price'] = log_price"
   ]
  },
  {
   "cell_type": "markdown",
   "id": "a776eb52",
   "metadata": {},
   "source": [
    "### show head ten item in data"
   ]
  },
  {
   "cell_type": "code",
   "execution_count": 52,
   "id": "978ff0c0",
   "metadata": {},
   "outputs": [
    {
     "data": {
      "text/html": [
       "<div>\n",
       "<style scoped>\n",
       "    .dataframe tbody tr th:only-of-type {\n",
       "        vertical-align: middle;\n",
       "    }\n",
       "\n",
       "    .dataframe tbody tr th {\n",
       "        vertical-align: top;\n",
       "    }\n",
       "\n",
       "    .dataframe thead th {\n",
       "        text-align: right;\n",
       "    }\n",
       "</style>\n",
       "<table border=\"1\" class=\"dataframe\">\n",
       "  <thead>\n",
       "    <tr style=\"text-align: right;\">\n",
       "      <th></th>\n",
       "      <th>Brand</th>\n",
       "      <th>Price</th>\n",
       "      <th>Body</th>\n",
       "      <th>Mileage</th>\n",
       "      <th>EngineV</th>\n",
       "      <th>Engine Type</th>\n",
       "      <th>Registration</th>\n",
       "      <th>Year</th>\n",
       "      <th>Model</th>\n",
       "      <th>log_price</th>\n",
       "    </tr>\n",
       "  </thead>\n",
       "  <tbody>\n",
       "    <tr>\n",
       "      <th>0</th>\n",
       "      <td>BMW</td>\n",
       "      <td>4200.0</td>\n",
       "      <td>sedan</td>\n",
       "      <td>277</td>\n",
       "      <td>2.0</td>\n",
       "      <td>Petrol</td>\n",
       "      <td>yes</td>\n",
       "      <td>1991</td>\n",
       "      <td>320</td>\n",
       "      <td>8.342840</td>\n",
       "    </tr>\n",
       "    <tr>\n",
       "      <th>1</th>\n",
       "      <td>Mercedes-Benz</td>\n",
       "      <td>7900.0</td>\n",
       "      <td>van</td>\n",
       "      <td>427</td>\n",
       "      <td>2.9</td>\n",
       "      <td>Diesel</td>\n",
       "      <td>yes</td>\n",
       "      <td>1999</td>\n",
       "      <td>Sprinter 212</td>\n",
       "      <td>8.974618</td>\n",
       "    </tr>\n",
       "    <tr>\n",
       "      <th>2</th>\n",
       "      <td>Mercedes-Benz</td>\n",
       "      <td>13300.0</td>\n",
       "      <td>sedan</td>\n",
       "      <td>358</td>\n",
       "      <td>5.0</td>\n",
       "      <td>Gas</td>\n",
       "      <td>yes</td>\n",
       "      <td>2003</td>\n",
       "      <td>S 500</td>\n",
       "      <td>9.495519</td>\n",
       "    </tr>\n",
       "    <tr>\n",
       "      <th>3</th>\n",
       "      <td>Audi</td>\n",
       "      <td>23000.0</td>\n",
       "      <td>crossover</td>\n",
       "      <td>240</td>\n",
       "      <td>4.2</td>\n",
       "      <td>Petrol</td>\n",
       "      <td>yes</td>\n",
       "      <td>2007</td>\n",
       "      <td>Q7</td>\n",
       "      <td>10.043249</td>\n",
       "    </tr>\n",
       "    <tr>\n",
       "      <th>4</th>\n",
       "      <td>Toyota</td>\n",
       "      <td>18300.0</td>\n",
       "      <td>crossover</td>\n",
       "      <td>120</td>\n",
       "      <td>2.0</td>\n",
       "      <td>Petrol</td>\n",
       "      <td>yes</td>\n",
       "      <td>2011</td>\n",
       "      <td>Rav 4</td>\n",
       "      <td>9.814656</td>\n",
       "    </tr>\n",
       "    <tr>\n",
       "      <th>5</th>\n",
       "      <td>Mercedes-Benz</td>\n",
       "      <td>199999.0</td>\n",
       "      <td>crossover</td>\n",
       "      <td>0</td>\n",
       "      <td>5.5</td>\n",
       "      <td>Petrol</td>\n",
       "      <td>yes</td>\n",
       "      <td>2016</td>\n",
       "      <td>GLS 63</td>\n",
       "      <td>12.206068</td>\n",
       "    </tr>\n",
       "    <tr>\n",
       "      <th>6</th>\n",
       "      <td>BMW</td>\n",
       "      <td>6100.0</td>\n",
       "      <td>sedan</td>\n",
       "      <td>438</td>\n",
       "      <td>2.0</td>\n",
       "      <td>Gas</td>\n",
       "      <td>yes</td>\n",
       "      <td>1997</td>\n",
       "      <td>320</td>\n",
       "      <td>8.716044</td>\n",
       "    </tr>\n",
       "    <tr>\n",
       "      <th>7</th>\n",
       "      <td>Audi</td>\n",
       "      <td>14200.0</td>\n",
       "      <td>vagon</td>\n",
       "      <td>200</td>\n",
       "      <td>2.7</td>\n",
       "      <td>Diesel</td>\n",
       "      <td>yes</td>\n",
       "      <td>2006</td>\n",
       "      <td>A6</td>\n",
       "      <td>9.560997</td>\n",
       "    </tr>\n",
       "    <tr>\n",
       "      <th>8</th>\n",
       "      <td>Renault</td>\n",
       "      <td>10799.0</td>\n",
       "      <td>vagon</td>\n",
       "      <td>193</td>\n",
       "      <td>1.5</td>\n",
       "      <td>Diesel</td>\n",
       "      <td>yes</td>\n",
       "      <td>2012</td>\n",
       "      <td>Megane</td>\n",
       "      <td>9.287209</td>\n",
       "    </tr>\n",
       "    <tr>\n",
       "      <th>9</th>\n",
       "      <td>Volkswagen</td>\n",
       "      <td>1400.0</td>\n",
       "      <td>other</td>\n",
       "      <td>212</td>\n",
       "      <td>1.8</td>\n",
       "      <td>Gas</td>\n",
       "      <td>no</td>\n",
       "      <td>1999</td>\n",
       "      <td>Golf IV</td>\n",
       "      <td>7.244228</td>\n",
       "    </tr>\n",
       "  </tbody>\n",
       "</table>\n",
       "</div>"
      ],
      "text/plain": [
       "           Brand     Price       Body  Mileage  EngineV Engine Type  \\\n",
       "0            BMW    4200.0      sedan      277      2.0      Petrol   \n",
       "1  Mercedes-Benz    7900.0        van      427      2.9      Diesel   \n",
       "2  Mercedes-Benz   13300.0      sedan      358      5.0         Gas   \n",
       "3           Audi   23000.0  crossover      240      4.2      Petrol   \n",
       "4         Toyota   18300.0  crossover      120      2.0      Petrol   \n",
       "5  Mercedes-Benz  199999.0  crossover        0      5.5      Petrol   \n",
       "6            BMW    6100.0      sedan      438      2.0         Gas   \n",
       "7           Audi   14200.0      vagon      200      2.7      Diesel   \n",
       "8        Renault   10799.0      vagon      193      1.5      Diesel   \n",
       "9     Volkswagen    1400.0      other      212      1.8         Gas   \n",
       "\n",
       "  Registration  Year         Model  log_price  \n",
       "0          yes  1991           320   8.342840  \n",
       "1          yes  1999  Sprinter 212   8.974618  \n",
       "2          yes  2003         S 500   9.495519  \n",
       "3          yes  2007            Q7  10.043249  \n",
       "4          yes  2011         Rav 4   9.814656  \n",
       "5          yes  2016        GLS 63  12.206068  \n",
       "6          yes  1997           320   8.716044  \n",
       "7          yes  2006            A6   9.560997  \n",
       "8          yes  2012        Megane   9.287209  \n",
       "9           no  1999       Golf IV   7.244228  "
      ]
     },
     "execution_count": 52,
     "metadata": {},
     "output_type": "execute_result"
    }
   ],
   "source": [
    "data_clean.head(10)"
   ]
  },
  {
   "cell_type": "markdown",
   "id": "b0dca2fc",
   "metadata": {},
   "source": [
    "### PAIN DATA IN VECTOR"
   ]
  },
  {
   "cell_type": "code",
   "execution_count": 53,
   "id": "11b53224",
   "metadata": {},
   "outputs": [
    {
     "data": {
      "text/plain": [
       "<matplotlib.collections.PathCollection at 0x7fe6666fd390>"
      ]
     },
     "execution_count": 53,
     "metadata": {},
     "output_type": "execute_result"
    },
    {
     "data": {
      "image/png": "[encoded data removed]",
      "text/plain": [
       "<Figure size 1500x300 with 3 Axes>"
      ]
     },
     "metadata": {},
     "output_type": "display_data"
    }
   ],
   "source": [
    "f, (ax1,ax2,ax3) = plt.subplots(1,3, sharey=True, figsize=(15,3))\n",
    "ax1.scatter(data_clean['Year'], data_clean['log_price'])\n",
    "ax2.scatter(data_clean['EngineV'], data_clean['log_price'])\n",
    "ax3.scatter(data_clean['Mileage'], data_clean['log_price'])\n",
    "\n"
   ]
  },
  {
   "cell_type": "markdown",
   "id": "a0b4d71c",
   "metadata": {},
   "source": [
    "### REMOVE COLUMN PRICE"
   ]
  },
  {
   "cell_type": "code",
   "execution_count": 54,
   "id": "3580e932",
   "metadata": {},
   "outputs": [],
   "source": [
    "data_clean = data_clean.drop('Price', axis=1)"
   ]
  },
  {
   "cell_type": "markdown",
   "id": "80e34d8d",
   "metadata": {},
   "source": [
    "### SHOW COLUMNS"
   ]
  },
  {
   "cell_type": "code",
   "execution_count": 55,
   "id": "ae2abae4",
   "metadata": {},
   "outputs": [
    {
     "data": {
      "text/plain": [
       "array(['Brand', 'Body', 'Mileage', 'EngineV', 'Engine Type',\n",
       "       'Registration', 'Year', 'Model', 'log_price'], dtype=object)"
      ]
     },
     "execution_count": 55,
     "metadata": {},
     "output_type": "execute_result"
    }
   ],
   "source": [
    "data_clean.columns.values"
   ]
  },
  {
   "cell_type": "markdown",
   "id": "d3b4b902",
   "metadata": {},
   "source": [
    "### CREATE DATAFRAME "
   ]
  },
  {
   "cell_type": "code",
   "execution_count": 62,
   "id": "550ad534",
   "metadata": {},
   "outputs": [
    {
     "data": {
      "text/plain": [
       "array([[2.770e+02, 1.991e+03, 2.000e+00],\n",
       "       [4.270e+02, 1.999e+03, 2.900e+00],\n",
       "       [3.580e+02, 2.003e+03, 5.000e+00],\n",
       "       ...,\n",
       "       [1.940e+02, 1.985e+03, 2.000e+00],\n",
       "       [3.100e+01, 2.014e+03,       nan],\n",
       "       [1.240e+02, 2.013e+03, 2.000e+00]])"
      ]
     },
     "execution_count": 62,
     "metadata": {},
     "output_type": "execute_result"
    }
   ],
   "source": [
    "variable = data_clean[['Mileage','Year','EngineV']]\n",
    "vdf = pd.DataFrame()\n",
    "variable.values\n",
    "\n",
    "#vdf['VIF'] = [variance_inflation_factor(variable.values, i) for i in range(variable.shape[1])]"
   ]
  }
 ],
 "metadata": {
  "kernelspec": {
   "display_name": "Python 3 (ipykernel)",
   "language": "python",
   "name": "python3"
  },
  "language_info": {
   "codemirror_mode": {
    "name": "ipython",
    "version": 3
   },
   "file_extension": ".py",
   "mimetype": "text/x-python",
   "name": "python",
   "nbconvert_exporter": "python",
   "pygments_lexer": "ipython3",
   "version": "3.10.7"
  }
 },
 "nbformat": 4,
 "nbformat_minor": 5
}
